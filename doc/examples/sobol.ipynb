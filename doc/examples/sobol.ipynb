{
 "cells": [
  {
   "cell_type": "markdown",
   "metadata": {},
   "source": [
    "## The Ishigami function"
   ]
  },
  {
   "cell_type": "markdown",
   "metadata": {},
   "source": [
    "In this example we are going to quantify the correlation between the input variables and the output variable of a model thanks to the *Sobol'* indices.\n",
    "\n",
    "The *Sobol'* indices allow to evaluate the importance of a single variable or a specific set of variables. \n",
    "\n",
    "*Sobol'* indices range is $\\left[0; 1\\right]$ ; the more the indice value is close to 1 the more the variable is important toward the output variance of the function. The *Sobol'* indices can be computed at different orders.\n",
    "\n",
    "The first order indices evaluate the importance of one variable at a time ($d$ indices, with $d$ the input dimension of the model). The $d$ total indices give the relative importance of every variables except the variable $x_i$, for every variable.\n",
    "\n",
    "Here the *Sobol'* indices are estimated on an analytical function: *Ishigami*. It writes\n",
    "\n",
    "$$ F(\\mathbf{x}) = \\sin(x_1)+7\\sin(x_2)^2+0.1x_3^4\\sin(x_1), \\quad \\mathbf{x}\\in [-\\pi, \\pi]^3 $$\n",
    "Analytical values of *Sobol'* indices for this function are available:\n",
    "\n",
    "\\begin{align}\n",
    "    S_{1, 2, 3} &= [0.314, 0.442, 0.], \\\\\n",
    "    S_{T_{1, 2, 3}} &= [0.558, 0.442, 0.244].\n",
    "\\end{align}\n",
    "\n",
    "This function is interesting because it exhibits an interaction between $x_1$ and $x_3$ although $x_3$ by itself do not play a role at first order."
   ]
  },
  {
   "cell_type": "code",
   "execution_count": 1,
   "metadata": {},
   "outputs": [],
   "source": [
    "import openturns as ot\n",
    "\n",
    "ot.RandomGenerator.SetSeed(0)\n",
    "\n",
    "# Create the model and input distribution\n",
    "formula = ['sin(X1)+7*sin(X2)^2+0.1*X3^4*sin(X1)']\n",
    "input_names = ['X1', 'X2', 'X3']\n",
    "dimension = 3\n",
    "corners = [[-np.pi] * dimension, [np.pi] * dimension]\n",
    "model = ot.SymbolicFunction(input_names, formula)\n",
    "distribution = ot.ComposedDistribution([ot.Uniform(corners[0][i], corners[1][i])\n",
    "                                        for i in range(dimension)])"
   ]
  },
  {
   "cell_type": "markdown",
   "metadata": {},
   "source": [
    "## *Sobol'* sensitivity indices"
   ]
  },
  {
   "cell_type": "code",
   "execution_count": 2,
   "metadata": {},
   "outputs": [],
   "source": [
    "import numpy as np\n",
    "from otsensitivity import sobol_saltelli"
   ]
  },
  {
   "cell_type": "code",
   "execution_count": 3,
   "metadata": {},
   "outputs": [
    {
     "name": "stdout",
     "output_type": "stream",
     "text": [
      "First order Sobol' indices: [ 0.32379921  0.46753088 -0.06082242]\n",
      "Relative error: [0.97992077 2.55308802 6.0822416 ]%\n",
      "Total order Sobol' indices: [0.59014073 0.43801516 0.25073188]\n",
      "Relative error: [3.21407266 0.39848433 0.67318841]%\n"
     ]
    }
   ],
   "source": [
    "# Compute Sobol' indices using the Saltelli estimator\n",
    "\n",
    "first_order, total_order = sobol_saltelli(model, 1000, 3, [[-np.pi, -np.pi, -np.pi],\n",
    "                                                           [np.pi, np.pi, np.pi]])\n",
    "\n",
    "true_sobol = [[0.314, 0.442, 0.], [0.558, 0.442, 0.244]]  # [first, total]\n",
    "\n",
    "## first order indices\n",
    "print(f\"First order Sobol' indices: {first_order}\\n\"\n",
    "      f\"Relative error: {abs(np.array(first_order) - true_sobol[0]) * 100}%\")  # maximum is 1\n",
    "\n",
    "## total order indices\n",
    "print(f\"Total order Sobol' indices: {total_order}\\n\"\n",
    "      f\"Relative error: {abs(np.array(total_order) - true_sobol[1]) * 100}%\")  # maximum is 1"
   ]
  },
  {
   "cell_type": "code",
   "execution_count": null,
   "metadata": {},
   "outputs": [],
   "source": []
  }
 ],
 "metadata": {
  "kernelspec": {
   "display_name": "Python 3",
   "language": "python",
   "name": "python3"
  },
  "language_info": {
   "codemirror_mode": {
    "name": "ipython",
    "version": 3
   },
   "file_extension": ".py",
   "mimetype": "text/x-python",
   "name": "python",
   "nbconvert_exporter": "python",
   "pygments_lexer": "ipython3",
   "version": "3.7.2"
  },
  "toc": {
   "base_numbering": 1,
   "nav_menu": {},
   "number_sections": true,
   "sideBar": true,
   "skip_h1_title": false,
   "title_cell": "Table of Contents",
   "title_sidebar": "Contents",
   "toc_cell": false,
   "toc_position": {},
   "toc_section_display": true,
   "toc_window_display": false
  }
 },
 "nbformat": 4,
 "nbformat_minor": 1
}
